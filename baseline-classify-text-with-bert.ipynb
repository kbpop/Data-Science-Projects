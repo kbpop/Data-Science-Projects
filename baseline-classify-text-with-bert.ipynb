{
 "cells": [
  {
   "cell_type": "code",
   "execution_count": 1,
   "id": "00af057b",
   "metadata": {
    "_cell_guid": "55eb8102-9faf-4b98-9642-bb8b7c92adca",
    "_uuid": "76b16948-34a3-4fe7-b18b-9276826bb9f3",
    "collapsed": false,
    "execution": {
     "iopub.execute_input": "2022-09-12T03:36:44.881582Z",
     "iopub.status.busy": "2022-09-12T03:36:44.880725Z",
     "iopub.status.idle": "2022-09-12T03:36:58.630524Z",
     "shell.execute_reply": "2022-09-12T03:36:58.629275Z"
    },
    "jupyter": {
     "outputs_hidden": false
    },
    "papermill": {
     "duration": 13.7619,
     "end_time": "2022-09-12T03:36:58.632889",
     "exception": false,
     "start_time": "2022-09-12T03:36:44.870989",
     "status": "completed"
    },
    "tags": []
   },
   "outputs": [
    {
     "name": "stderr",
     "output_type": "stream",
     "text": [
      "2022-09-12 03:36:53.148858: I tensorflow/stream_executor/cuda/cuda_gpu_executor.cc:937] successful NUMA node read from SysFS had negative value (-1), but there must be at least one NUMA node, so returning NUMA node zero\n",
      "2022-09-12 03:36:53.149929: I tensorflow/stream_executor/cuda/cuda_gpu_executor.cc:937] successful NUMA node read from SysFS had negative value (-1), but there must be at least one NUMA node, so returning NUMA node zero\n",
      "2022-09-12 03:36:53.150682: I tensorflow/stream_executor/cuda/cuda_gpu_executor.cc:937] successful NUMA node read from SysFS had negative value (-1), but there must be at least one NUMA node, so returning NUMA node zero\n",
      "2022-09-12 03:36:53.152588: I tensorflow/core/platform/cpu_feature_guard.cc:142] This TensorFlow binary is optimized with oneAPI Deep Neural Network Library (oneDNN) to use the following CPU instructions in performance-critical operations:  AVX2 AVX512F FMA\n",
      "To enable them in other operations, rebuild TensorFlow with the appropriate compiler flags.\n",
      "2022-09-12 03:36:53.152894: I tensorflow/stream_executor/cuda/cuda_gpu_executor.cc:937] successful NUMA node read from SysFS had negative value (-1), but there must be at least one NUMA node, so returning NUMA node zero\n",
      "2022-09-12 03:36:53.153619: I tensorflow/stream_executor/cuda/cuda_gpu_executor.cc:937] successful NUMA node read from SysFS had negative value (-1), but there must be at least one NUMA node, so returning NUMA node zero\n",
      "2022-09-12 03:36:53.154305: I tensorflow/stream_executor/cuda/cuda_gpu_executor.cc:937] successful NUMA node read from SysFS had negative value (-1), but there must be at least one NUMA node, so returning NUMA node zero\n",
      "2022-09-12 03:36:58.242782: I tensorflow/stream_executor/cuda/cuda_gpu_executor.cc:937] successful NUMA node read from SysFS had negative value (-1), but there must be at least one NUMA node, so returning NUMA node zero\n",
      "2022-09-12 03:36:58.243664: I tensorflow/stream_executor/cuda/cuda_gpu_executor.cc:937] successful NUMA node read from SysFS had negative value (-1), but there must be at least one NUMA node, so returning NUMA node zero\n",
      "2022-09-12 03:36:58.244346: I tensorflow/stream_executor/cuda/cuda_gpu_executor.cc:937] successful NUMA node read from SysFS had negative value (-1), but there must be at least one NUMA node, so returning NUMA node zero\n",
      "2022-09-12 03:36:58.244932: I tensorflow/core/common_runtime/gpu/gpu_device.cc:1510] Created device /job:localhost/replica:0/task:0/device:GPU:0 with 15047 MB memory:  -> device: 0, name: Tesla P100-PCIE-16GB, pci bus id: 0000:00:04.0, compute capability: 6.0\n"
     ]
    }
   ],
   "source": [
    "import pandas as pd\n",
    "import numpy as np\n",
    "import os\n",
    "\n",
    "import tensorflow as tf\n",
    "from tensorflow.keras.layers import Dense, Input, Dropout\n",
    "from tensorflow.keras.optimizers import Adam\n",
    "from tensorflow.keras.models import Model\n",
    "from transformers import TFBertModel\n",
    "import transformers"
   ]
  },
  {
   "cell_type": "code",
   "execution_count": 2,
   "id": "f114267a",
   "metadata": {
    "_cell_guid": "a7687902-b338-454e-8f1e-6328c5db72de",
    "_uuid": "0f0853e7-0812-4f0c-bf31-aa6c0aa638f5",
    "collapsed": false,
    "execution": {
     "iopub.execute_input": "2022-09-12T03:36:58.649886Z",
     "iopub.status.busy": "2022-09-12T03:36:58.647880Z",
     "iopub.status.idle": "2022-09-12T03:37:26.185096Z",
     "shell.execute_reply": "2022-09-12T03:37:26.184177Z"
    },
    "jupyter": {
     "outputs_hidden": false
    },
    "papermill": {
     "duration": 27.547051,
     "end_time": "2022-09-12T03:37:26.187233",
     "exception": false,
     "start_time": "2022-09-12T03:36:58.640182",
     "status": "completed"
    },
    "tags": []
   },
   "outputs": [
    {
     "data": {
      "text/html": [
       "<div>\n",
       "<style scoped>\n",
       "    .dataframe tbody tr th:only-of-type {\n",
       "        vertical-align: middle;\n",
       "    }\n",
       "\n",
       "    .dataframe tbody tr th {\n",
       "        vertical-align: top;\n",
       "    }\n",
       "\n",
       "    .dataframe thead th {\n",
       "        text-align: right;\n",
       "    }\n",
       "</style>\n",
       "<table border=\"1\" class=\"dataframe\">\n",
       "  <thead>\n",
       "    <tr style=\"text-align: right;\">\n",
       "      <th></th>\n",
       "      <th>discourse_id</th>\n",
       "      <th>essay_id</th>\n",
       "      <th>discourse_text</th>\n",
       "      <th>discourse_type</th>\n",
       "      <th>discourse_effectiveness</th>\n",
       "      <th>text</th>\n",
       "    </tr>\n",
       "  </thead>\n",
       "  <tbody>\n",
       "    <tr>\n",
       "      <th>0</th>\n",
       "      <td>0013cc385424</td>\n",
       "      <td>007ACE74B050</td>\n",
       "      <td>Hi, i'm Isaac, i'm going to be writing about h...</td>\n",
       "      <td>Lead</td>\n",
       "      <td>Adequate</td>\n",
       "      <td>Hi, i'm Isaac, i'm going to be writing about h...</td>\n",
       "    </tr>\n",
       "    <tr>\n",
       "      <th>1</th>\n",
       "      <td>9704a709b505</td>\n",
       "      <td>007ACE74B050</td>\n",
       "      <td>On my perspective, I think that the face is a ...</td>\n",
       "      <td>Position</td>\n",
       "      <td>Adequate</td>\n",
       "      <td>Hi, i'm Isaac, i'm going to be writing about h...</td>\n",
       "    </tr>\n",
       "    <tr>\n",
       "      <th>2</th>\n",
       "      <td>c22adee811b6</td>\n",
       "      <td>007ACE74B050</td>\n",
       "      <td>I think that the face is a natural landform be...</td>\n",
       "      <td>Claim</td>\n",
       "      <td>Adequate</td>\n",
       "      <td>Hi, i'm Isaac, i'm going to be writing about h...</td>\n",
       "    </tr>\n",
       "    <tr>\n",
       "      <th>3</th>\n",
       "      <td>a10d361e54e4</td>\n",
       "      <td>007ACE74B050</td>\n",
       "      <td>If life was on Mars, we would know by now. The...</td>\n",
       "      <td>Evidence</td>\n",
       "      <td>Adequate</td>\n",
       "      <td>Hi, i'm Isaac, i'm going to be writing about h...</td>\n",
       "    </tr>\n",
       "    <tr>\n",
       "      <th>4</th>\n",
       "      <td>db3e453ec4e2</td>\n",
       "      <td>007ACE74B050</td>\n",
       "      <td>People thought that the face was formed by ali...</td>\n",
       "      <td>Counterclaim</td>\n",
       "      <td>Adequate</td>\n",
       "      <td>Hi, i'm Isaac, i'm going to be writing about h...</td>\n",
       "    </tr>\n",
       "  </tbody>\n",
       "</table>\n",
       "</div>"
      ],
      "text/plain": [
       "   discourse_id      essay_id  \\\n",
       "0  0013cc385424  007ACE74B050   \n",
       "1  9704a709b505  007ACE74B050   \n",
       "2  c22adee811b6  007ACE74B050   \n",
       "3  a10d361e54e4  007ACE74B050   \n",
       "4  db3e453ec4e2  007ACE74B050   \n",
       "\n",
       "                                      discourse_text discourse_type  \\\n",
       "0  Hi, i'm Isaac, i'm going to be writing about h...           Lead   \n",
       "1  On my perspective, I think that the face is a ...       Position   \n",
       "2  I think that the face is a natural landform be...          Claim   \n",
       "3  If life was on Mars, we would know by now. The...       Evidence   \n",
       "4  People thought that the face was formed by ali...   Counterclaim   \n",
       "\n",
       "  discourse_effectiveness                                               text  \n",
       "0                Adequate  Hi, i'm Isaac, i'm going to be writing about h...  \n",
       "1                Adequate  Hi, i'm Isaac, i'm going to be writing about h...  \n",
       "2                Adequate  Hi, i'm Isaac, i'm going to be writing about h...  \n",
       "3                Adequate  Hi, i'm Isaac, i'm going to be writing about h...  \n",
       "4                Adequate  Hi, i'm Isaac, i'm going to be writing about h...  "
      ]
     },
     "execution_count": 2,
     "metadata": {},
     "output_type": "execute_result"
    }
   ],
   "source": [
    "df_train = pd.read_csv(\"../input/feedback-prize-effectiveness/train.csv\")\n",
    "df_train['text'] = df_train['essay_id'].apply(lambda x: open(f'/kaggle/input/feedback-prize-effectiveness/train/{x}.txt').read())\n",
    "\n",
    "df_test = pd.read_csv('../input/feedback-prize-effectiveness/test.csv')\n",
    "df_test['text'] = df_test['essay_id'].apply(lambda x: open(f'/kaggle/input/feedback-prize-effectiveness/test/{x}.txt').read())\n",
    "\n",
    "df_train.head()"
   ]
  },
  {
   "cell_type": "code",
   "execution_count": 3,
   "id": "aba5c752",
   "metadata": {
    "_cell_guid": "7d25ca50-dadb-4922-b5df-4d25bfb50f19",
    "_uuid": "249a74ab-2543-42a8-a623-bd1bb4421e1f",
    "collapsed": false,
    "execution": {
     "iopub.execute_input": "2022-09-12T03:37:26.203016Z",
     "iopub.status.busy": "2022-09-12T03:37:26.202684Z",
     "iopub.status.idle": "2022-09-12T03:37:26.222793Z",
     "shell.execute_reply": "2022-09-12T03:37:26.221865Z"
    },
    "jupyter": {
     "outputs_hidden": false
    },
    "papermill": {
     "duration": 0.030299,
     "end_time": "2022-09-12T03:37:26.224950",
     "exception": false,
     "start_time": "2022-09-12T03:37:26.194651",
     "status": "completed"
    },
    "tags": []
   },
   "outputs": [
    {
     "data": {
      "text/html": [
       "<div>\n",
       "<style scoped>\n",
       "    .dataframe tbody tr th:only-of-type {\n",
       "        vertical-align: middle;\n",
       "    }\n",
       "\n",
       "    .dataframe tbody tr th {\n",
       "        vertical-align: top;\n",
       "    }\n",
       "\n",
       "    .dataframe thead th {\n",
       "        text-align: right;\n",
       "    }\n",
       "</style>\n",
       "<table border=\"1\" class=\"dataframe\">\n",
       "  <thead>\n",
       "    <tr style=\"text-align: right;\">\n",
       "      <th></th>\n",
       "      <th>discourse_id</th>\n",
       "      <th>essay_id</th>\n",
       "      <th>discourse_text</th>\n",
       "      <th>discourse_type</th>\n",
       "      <th>discourse_effectiveness</th>\n",
       "      <th>text</th>\n",
       "    </tr>\n",
       "  </thead>\n",
       "  <tbody>\n",
       "    <tr>\n",
       "      <th>0</th>\n",
       "      <td>0013cc385424</td>\n",
       "      <td>007ACE74B050</td>\n",
       "      <td>Hi, i'm Isaac, i'm going to be writing about h...</td>\n",
       "      <td>Lead</td>\n",
       "      <td>Adequate</td>\n",
       "      <td>Hi, i'm Isaac, i'm going to be writing about h...</td>\n",
       "    </tr>\n",
       "    <tr>\n",
       "      <th>1</th>\n",
       "      <td>9704a709b505</td>\n",
       "      <td>007ACE74B050</td>\n",
       "      <td>On my perspective, I think that the face is a ...</td>\n",
       "      <td>Position</td>\n",
       "      <td>Adequate</td>\n",
       "      <td>Hi, i'm Isaac, i'm going to be writing about h...</td>\n",
       "    </tr>\n",
       "    <tr>\n",
       "      <th>2</th>\n",
       "      <td>c22adee811b6</td>\n",
       "      <td>007ACE74B050</td>\n",
       "      <td>I think that the face is a natural landform be...</td>\n",
       "      <td>Claim</td>\n",
       "      <td>Adequate</td>\n",
       "      <td>Hi, i'm Isaac, i'm going to be writing about h...</td>\n",
       "    </tr>\n",
       "    <tr>\n",
       "      <th>3</th>\n",
       "      <td>a10d361e54e4</td>\n",
       "      <td>007ACE74B050</td>\n",
       "      <td>If life was on Mars, we would know by now. The...</td>\n",
       "      <td>Evidence</td>\n",
       "      <td>Adequate</td>\n",
       "      <td>Hi, i'm Isaac, i'm going to be writing about h...</td>\n",
       "    </tr>\n",
       "    <tr>\n",
       "      <th>4</th>\n",
       "      <td>db3e453ec4e2</td>\n",
       "      <td>007ACE74B050</td>\n",
       "      <td>People thought that the face was formed by ali...</td>\n",
       "      <td>Counterclaim</td>\n",
       "      <td>Adequate</td>\n",
       "      <td>Hi, i'm Isaac, i'm going to be writing about h...</td>\n",
       "    </tr>\n",
       "  </tbody>\n",
       "</table>\n",
       "</div>"
      ],
      "text/plain": [
       "   discourse_id      essay_id  \\\n",
       "0  0013cc385424  007ACE74B050   \n",
       "1  9704a709b505  007ACE74B050   \n",
       "2  c22adee811b6  007ACE74B050   \n",
       "3  a10d361e54e4  007ACE74B050   \n",
       "4  db3e453ec4e2  007ACE74B050   \n",
       "\n",
       "                                      discourse_text discourse_type  \\\n",
       "0  Hi, i'm Isaac, i'm going to be writing about h...           Lead   \n",
       "1  On my perspective, I think that the face is a ...       Position   \n",
       "2  I think that the face is a natural landform be...          Claim   \n",
       "3  If life was on Mars, we would know by now. The...       Evidence   \n",
       "4  People thought that the face was formed by ali...   Counterclaim   \n",
       "\n",
       "  discourse_effectiveness                                               text  \n",
       "0                Adequate  Hi, i'm Isaac, i'm going to be writing about h...  \n",
       "1                Adequate  Hi, i'm Isaac, i'm going to be writing about h...  \n",
       "2                Adequate  Hi, i'm Isaac, i'm going to be writing about h...  \n",
       "3                Adequate  Hi, i'm Isaac, i'm going to be writing about h...  \n",
       "4                Adequate  Hi, i'm Isaac, i'm going to be writing about h...  "
      ]
     },
     "execution_count": 3,
     "metadata": {},
     "output_type": "execute_result"
    }
   ],
   "source": [
    "# Concatenate train & test, for process features easier\n",
    "df_combined = pd.concat([df_train, df_test], axis=0, sort=False)\n",
    "df_combined.head()"
   ]
  },
  {
   "cell_type": "markdown",
   "id": "ac018e05",
   "metadata": {
    "_cell_guid": "23a84441-10dc-4f88-a5a1-38b725b6ac77",
    "_uuid": "b6cb7f05-3129-4aed-b65c-d7eb4237feea",
    "papermill": {
     "duration": 0.006778,
     "end_time": "2022-09-12T03:37:26.239420",
     "exception": false,
     "start_time": "2022-09-12T03:37:26.232642",
     "status": "completed"
    },
    "tags": []
   },
   "source": [
    "# BERT"
   ]
  },
  {
   "cell_type": "code",
   "execution_count": 4,
   "id": "20a6b7af",
   "metadata": {
    "_cell_guid": "7bb9cef0-87f3-4dfd-93f1-bdddaa0c7a94",
    "_uuid": "0e42bbaa-d3f4-4ef2-978c-4d360fe07ea7",
    "collapsed": false,
    "execution": {
     "iopub.execute_input": "2022-09-12T03:37:26.255846Z",
     "iopub.status.busy": "2022-09-12T03:37:26.255062Z",
     "iopub.status.idle": "2022-09-12T03:37:26.259387Z",
     "shell.execute_reply": "2022-09-12T03:37:26.258439Z"
    },
    "jupyter": {
     "outputs_hidden": false
    },
    "papermill": {
     "duration": 0.01481,
     "end_time": "2022-09-12T03:37:26.261608",
     "exception": false,
     "start_time": "2022-09-12T03:37:26.246798",
     "status": "completed"
    },
    "tags": []
   },
   "outputs": [],
   "source": [
    "MODEL_PATH = '../input/huggingface-bert-variants/distilbert-base-cased/distilbert-base-cased'\n",
    "MAX_TEXT = 256"
   ]
  },
  {
   "cell_type": "code",
   "execution_count": 5,
   "id": "3772c21b",
   "metadata": {
    "_cell_guid": "4562cfdd-651f-46bb-8a88-bd171c23dfb8",
    "_uuid": "62fe0390-aed3-452f-b2d4-f371fa7af94c",
    "collapsed": false,
    "execution": {
     "iopub.execute_input": "2022-09-12T03:37:26.276883Z",
     "iopub.status.busy": "2022-09-12T03:37:26.276616Z",
     "iopub.status.idle": "2022-09-12T03:37:26.347104Z",
     "shell.execute_reply": "2022-09-12T03:37:26.346089Z"
    },
    "jupyter": {
     "outputs_hidden": false
    },
    "papermill": {
     "duration": 0.080429,
     "end_time": "2022-09-12T03:37:26.349158",
     "exception": false,
     "start_time": "2022-09-12T03:37:26.268729",
     "status": "completed"
    },
    "tags": []
   },
   "outputs": [
    {
     "name": "stderr",
     "output_type": "stream",
     "text": [
      "The tokenizer class you load from this checkpoint is not the same type as the class this function is called from. It may result in unexpected tokenization. \n",
      "The tokenizer class you load from this checkpoint is 'DistilBertTokenizer'. \n",
      "The class this function is called from is 'BertTokenizer'.\n"
     ]
    },
    {
     "data": {
      "text/plain": [
       "'[SEP]'"
      ]
     },
     "execution_count": 5,
     "metadata": {},
     "output_type": "execute_result"
    }
   ],
   "source": [
    "# Load tokenizer.\n",
    "tokenizer = transformers.BertTokenizer.from_pretrained(MODEL_PATH)\n",
    "tokenizer.sep_token"
   ]
  },
  {
   "cell_type": "code",
   "execution_count": 6,
   "id": "6ce6bfec",
   "metadata": {
    "_cell_guid": "5c719523-c0a8-4aea-a221-183cdad52c0f",
    "_uuid": "f4d93e8e-367a-4890-b3a1-c25d117ee17d",
    "collapsed": false,
    "execution": {
     "iopub.execute_input": "2022-09-12T03:37:26.366041Z",
     "iopub.status.busy": "2022-09-12T03:37:26.365163Z",
     "iopub.status.idle": "2022-09-12T03:37:26.390217Z",
     "shell.execute_reply": "2022-09-12T03:37:26.389090Z"
    },
    "jupyter": {
     "outputs_hidden": false
    },
    "papermill": {
     "duration": 0.035931,
     "end_time": "2022-09-12T03:37:26.392729",
     "exception": false,
     "start_time": "2022-09-12T03:37:26.356798",
     "status": "completed"
    },
    "tags": []
   },
   "outputs": [
    {
     "data": {
      "text/html": [
       "<div>\n",
       "<style scoped>\n",
       "    .dataframe tbody tr th:only-of-type {\n",
       "        vertical-align: middle;\n",
       "    }\n",
       "\n",
       "    .dataframe tbody tr th {\n",
       "        vertical-align: top;\n",
       "    }\n",
       "\n",
       "    .dataframe thead th {\n",
       "        text-align: right;\n",
       "    }\n",
       "</style>\n",
       "<table border=\"1\" class=\"dataframe\">\n",
       "  <thead>\n",
       "    <tr style=\"text-align: right;\">\n",
       "      <th></th>\n",
       "      <th>discourse_id</th>\n",
       "      <th>essay_id</th>\n",
       "      <th>discourse_text</th>\n",
       "      <th>discourse_type</th>\n",
       "      <th>discourse_effectiveness</th>\n",
       "      <th>text</th>\n",
       "    </tr>\n",
       "  </thead>\n",
       "  <tbody>\n",
       "    <tr>\n",
       "      <th>0</th>\n",
       "      <td>0013cc385424</td>\n",
       "      <td>007ACE74B050</td>\n",
       "      <td>Hi, i'm Isaac, i'm going to be writing about h...</td>\n",
       "      <td>Lead</td>\n",
       "      <td>Adequate</td>\n",
       "      <td>[SEP]Hi, i'm Isaac, i'm going to be writing ab...</td>\n",
       "    </tr>\n",
       "    <tr>\n",
       "      <th>1</th>\n",
       "      <td>9704a709b505</td>\n",
       "      <td>007ACE74B050</td>\n",
       "      <td>On my perspective, I think that the face is a ...</td>\n",
       "      <td>Position</td>\n",
       "      <td>Adequate</td>\n",
       "      <td>[SEP]On my perspective, I think that the face ...</td>\n",
       "    </tr>\n",
       "    <tr>\n",
       "      <th>2</th>\n",
       "      <td>c22adee811b6</td>\n",
       "      <td>007ACE74B050</td>\n",
       "      <td>I think that the face is a natural landform be...</td>\n",
       "      <td>Claim</td>\n",
       "      <td>Adequate</td>\n",
       "      <td>[SEP]I think that the face is a natural landfo...</td>\n",
       "    </tr>\n",
       "    <tr>\n",
       "      <th>3</th>\n",
       "      <td>a10d361e54e4</td>\n",
       "      <td>007ACE74B050</td>\n",
       "      <td>If life was on Mars, we would know by now. The...</td>\n",
       "      <td>Evidence</td>\n",
       "      <td>Adequate</td>\n",
       "      <td>[SEP]If life was on Mars, we would know by now...</td>\n",
       "    </tr>\n",
       "    <tr>\n",
       "      <th>4</th>\n",
       "      <td>db3e453ec4e2</td>\n",
       "      <td>007ACE74B050</td>\n",
       "      <td>People thought that the face was formed by ali...</td>\n",
       "      <td>Counterclaim</td>\n",
       "      <td>Adequate</td>\n",
       "      <td>[SEP]People thought that the face was formed b...</td>\n",
       "    </tr>\n",
       "  </tbody>\n",
       "</table>\n",
       "</div>"
      ],
      "text/plain": [
       "   discourse_id      essay_id  \\\n",
       "0  0013cc385424  007ACE74B050   \n",
       "1  9704a709b505  007ACE74B050   \n",
       "2  c22adee811b6  007ACE74B050   \n",
       "3  a10d361e54e4  007ACE74B050   \n",
       "4  db3e453ec4e2  007ACE74B050   \n",
       "\n",
       "                                      discourse_text discourse_type  \\\n",
       "0  Hi, i'm Isaac, i'm going to be writing about h...           Lead   \n",
       "1  On my perspective, I think that the face is a ...       Position   \n",
       "2  I think that the face is a natural landform be...          Claim   \n",
       "3  If life was on Mars, we would know by now. The...       Evidence   \n",
       "4  People thought that the face was formed by ali...   Counterclaim   \n",
       "\n",
       "  discourse_effectiveness                                               text  \n",
       "0                Adequate  [SEP]Hi, i'm Isaac, i'm going to be writing ab...  \n",
       "1                Adequate  [SEP]On my perspective, I think that the face ...  \n",
       "2                Adequate  [SEP]I think that the face is a natural landfo...  \n",
       "3                Adequate  [SEP]If life was on Mars, we would know by now...  \n",
       "4                Adequate  [SEP]People thought that the face was formed b...  "
      ]
     },
     "execution_count": 6,
     "metadata": {},
     "output_type": "execute_result"
    }
   ],
   "source": [
    "# Create text feature to input to Bert.\n",
    "df_combined['text'] = tokenizer.sep_token + df_combined['discourse_text']\n",
    "df_combined.head()"
   ]
  },
  {
   "cell_type": "code",
   "execution_count": 7,
   "id": "ad71dd12",
   "metadata": {
    "_cell_guid": "9d175730-6159-46a3-82fe-266e433f4d2d",
    "_uuid": "b3063637-09b4-4cdd-be80-6ec698a1e82f",
    "collapsed": false,
    "execution": {
     "iopub.execute_input": "2022-09-12T03:37:26.410964Z",
     "iopub.status.busy": "2022-09-12T03:37:26.410031Z",
     "iopub.status.idle": "2022-09-12T03:37:26.419445Z",
     "shell.execute_reply": "2022-09-12T03:37:26.418604Z"
    },
    "jupyter": {
     "outputs_hidden": false
    },
    "papermill": {
     "duration": 0.020145,
     "end_time": "2022-09-12T03:37:26.421634",
     "exception": false,
     "start_time": "2022-09-12T03:37:26.401489",
     "status": "completed"
    },
    "tags": []
   },
   "outputs": [],
   "source": [
    "# Encode prediction target.\n",
    "effectiveness_map = {\"Ineffective\":0, \"Adequate\":1,\"Effective\":2}\n",
    "df_combined[\"target\"] = df_combined[\"discourse_effectiveness\"].map(effectiveness_map)"
   ]
  },
  {
   "cell_type": "code",
   "execution_count": 8,
   "id": "24655023",
   "metadata": {
    "_cell_guid": "71fabde7-e985-4158-93fc-37fdf7093540",
    "_uuid": "17e53893-4762-40c1-975c-d6fc83a2b98c",
    "collapsed": false,
    "execution": {
     "iopub.execute_input": "2022-09-12T03:37:26.437854Z",
     "iopub.status.busy": "2022-09-12T03:37:26.437575Z",
     "iopub.status.idle": "2022-09-12T03:37:26.451191Z",
     "shell.execute_reply": "2022-09-12T03:37:26.450075Z"
    },
    "jupyter": {
     "outputs_hidden": false
    },
    "papermill": {
     "duration": 0.023938,
     "end_time": "2022-09-12T03:37:26.453129",
     "exception": false,
     "start_time": "2022-09-12T03:37:26.429191",
     "status": "completed"
    },
    "tags": []
   },
   "outputs": [
    {
     "data": {
      "text/html": [
       "<div>\n",
       "<style scoped>\n",
       "    .dataframe tbody tr th:only-of-type {\n",
       "        vertical-align: middle;\n",
       "    }\n",
       "\n",
       "    .dataframe tbody tr th {\n",
       "        vertical-align: top;\n",
       "    }\n",
       "\n",
       "    .dataframe thead th {\n",
       "        text-align: right;\n",
       "    }\n",
       "</style>\n",
       "<table border=\"1\" class=\"dataframe\">\n",
       "  <thead>\n",
       "    <tr style=\"text-align: right;\">\n",
       "      <th></th>\n",
       "      <th>discourse_id</th>\n",
       "      <th>essay_id</th>\n",
       "      <th>discourse_text</th>\n",
       "      <th>discourse_type</th>\n",
       "      <th>discourse_effectiveness</th>\n",
       "      <th>text</th>\n",
       "      <th>target</th>\n",
       "    </tr>\n",
       "  </thead>\n",
       "  <tbody>\n",
       "    <tr>\n",
       "      <th>0</th>\n",
       "      <td>0013cc385424</td>\n",
       "      <td>007ACE74B050</td>\n",
       "      <td>Hi, i'm Isaac, i'm going to be writing about h...</td>\n",
       "      <td>Lead</td>\n",
       "      <td>Adequate</td>\n",
       "      <td>[SEP]Hi, i'm Isaac, i'm going to be writing ab...</td>\n",
       "      <td>1.0</td>\n",
       "    </tr>\n",
       "    <tr>\n",
       "      <th>1</th>\n",
       "      <td>9704a709b505</td>\n",
       "      <td>007ACE74B050</td>\n",
       "      <td>On my perspective, I think that the face is a ...</td>\n",
       "      <td>Position</td>\n",
       "      <td>Adequate</td>\n",
       "      <td>[SEP]On my perspective, I think that the face ...</td>\n",
       "      <td>1.0</td>\n",
       "    </tr>\n",
       "    <tr>\n",
       "      <th>2</th>\n",
       "      <td>c22adee811b6</td>\n",
       "      <td>007ACE74B050</td>\n",
       "      <td>I think that the face is a natural landform be...</td>\n",
       "      <td>Claim</td>\n",
       "      <td>Adequate</td>\n",
       "      <td>[SEP]I think that the face is a natural landfo...</td>\n",
       "      <td>1.0</td>\n",
       "    </tr>\n",
       "    <tr>\n",
       "      <th>3</th>\n",
       "      <td>a10d361e54e4</td>\n",
       "      <td>007ACE74B050</td>\n",
       "      <td>If life was on Mars, we would know by now. The...</td>\n",
       "      <td>Evidence</td>\n",
       "      <td>Adequate</td>\n",
       "      <td>[SEP]If life was on Mars, we would know by now...</td>\n",
       "      <td>1.0</td>\n",
       "    </tr>\n",
       "    <tr>\n",
       "      <th>4</th>\n",
       "      <td>db3e453ec4e2</td>\n",
       "      <td>007ACE74B050</td>\n",
       "      <td>People thought that the face was formed by ali...</td>\n",
       "      <td>Counterclaim</td>\n",
       "      <td>Adequate</td>\n",
       "      <td>[SEP]People thought that the face was formed b...</td>\n",
       "      <td>1.0</td>\n",
       "    </tr>\n",
       "  </tbody>\n",
       "</table>\n",
       "</div>"
      ],
      "text/plain": [
       "   discourse_id      essay_id  \\\n",
       "0  0013cc385424  007ACE74B050   \n",
       "1  9704a709b505  007ACE74B050   \n",
       "2  c22adee811b6  007ACE74B050   \n",
       "3  a10d361e54e4  007ACE74B050   \n",
       "4  db3e453ec4e2  007ACE74B050   \n",
       "\n",
       "                                      discourse_text discourse_type  \\\n",
       "0  Hi, i'm Isaac, i'm going to be writing about h...           Lead   \n",
       "1  On my perspective, I think that the face is a ...       Position   \n",
       "2  I think that the face is a natural landform be...          Claim   \n",
       "3  If life was on Mars, we would know by now. The...       Evidence   \n",
       "4  People thought that the face was formed by ali...   Counterclaim   \n",
       "\n",
       "  discourse_effectiveness                                               text  \\\n",
       "0                Adequate  [SEP]Hi, i'm Isaac, i'm going to be writing ab...   \n",
       "1                Adequate  [SEP]On my perspective, I think that the face ...   \n",
       "2                Adequate  [SEP]I think that the face is a natural landfo...   \n",
       "3                Adequate  [SEP]If life was on Mars, we would know by now...   \n",
       "4                Adequate  [SEP]People thought that the face was formed b...   \n",
       "\n",
       "   target  \n",
       "0     1.0  \n",
       "1     1.0  \n",
       "2     1.0  \n",
       "3     1.0  \n",
       "4     1.0  "
      ]
     },
     "execution_count": 8,
     "metadata": {},
     "output_type": "execute_result"
    }
   ],
   "source": [
    "df_combined.head()"
   ]
  },
  {
   "cell_type": "code",
   "execution_count": 9,
   "id": "4c7d41b0",
   "metadata": {
    "_cell_guid": "f5b0a9aa-354d-4396-9f07-b44515e08efb",
    "_uuid": "4520b23a-17fa-450f-a782-31ac52ad87eb",
    "collapsed": false,
    "execution": {
     "iopub.execute_input": "2022-09-12T03:37:26.470307Z",
     "iopub.status.busy": "2022-09-12T03:37:26.469558Z",
     "iopub.status.idle": "2022-09-12T03:37:26.474082Z",
     "shell.execute_reply": "2022-09-12T03:37:26.473050Z"
    },
    "jupyter": {
     "outputs_hidden": false
    },
    "papermill": {
     "duration": 0.0156,
     "end_time": "2022-09-12T03:37:26.476444",
     "exception": false,
     "start_time": "2022-09-12T03:37:26.460844",
     "status": "completed"
    },
    "tags": []
   },
   "outputs": [],
   "source": [
    "# deal with categorical features\n",
    "from sklearn import preprocessing\n",
    "from sklearn.preprocessing import LabelEncoder"
   ]
  },
  {
   "cell_type": "code",
   "execution_count": 10,
   "id": "8e79d7c1",
   "metadata": {
    "_cell_guid": "3b88ebb6-8e84-4dc4-b622-b7509426716a",
    "_uuid": "1de9e638-331c-4b3b-822a-8db7f17f6aa6",
    "collapsed": false,
    "execution": {
     "iopub.execute_input": "2022-09-12T03:37:26.493120Z",
     "iopub.status.busy": "2022-09-12T03:37:26.492854Z",
     "iopub.status.idle": "2022-09-12T03:37:26.498302Z",
     "shell.execute_reply": "2022-09-12T03:37:26.497406Z"
    },
    "jupyter": {
     "outputs_hidden": false
    },
    "papermill": {
     "duration": 0.016082,
     "end_time": "2022-09-12T03:37:26.500481",
     "exception": false,
     "start_time": "2022-09-12T03:37:26.484399",
     "status": "completed"
    },
    "tags": []
   },
   "outputs": [
    {
     "data": {
      "text/plain": [
       "36765"
      ]
     },
     "execution_count": 10,
     "metadata": {},
     "output_type": "execute_result"
    }
   ],
   "source": [
    "df_train.shape[0]"
   ]
  },
  {
   "cell_type": "code",
   "execution_count": 11,
   "id": "9fd0252b",
   "metadata": {
    "_cell_guid": "8d1f57f9-e74b-4621-a290-1167a23d9479",
    "_uuid": "c9e2a99c-6a10-41a5-a550-d376217e3e81",
    "collapsed": false,
    "execution": {
     "iopub.execute_input": "2022-09-12T03:37:26.518456Z",
     "iopub.status.busy": "2022-09-12T03:37:26.517610Z",
     "iopub.status.idle": "2022-09-12T03:37:26.522706Z",
     "shell.execute_reply": "2022-09-12T03:37:26.521736Z"
    },
    "jupyter": {
     "outputs_hidden": false
    },
    "papermill": {
     "duration": 0.016055,
     "end_time": "2022-09-12T03:37:26.524778",
     "exception": false,
     "start_time": "2022-09-12T03:37:26.508723",
     "status": "completed"
    },
    "tags": []
   },
   "outputs": [],
   "source": [
    "# Selecting the first n ( df_train.shape[0] rows)\n",
    "df_train_b = df_combined[:df_train.shape[0]]\n",
    "df_test_b = df_combined[df_train.shape[0]:]"
   ]
  },
  {
   "cell_type": "code",
   "execution_count": 12,
   "id": "140f7f6f",
   "metadata": {
    "_cell_guid": "5d65b3ad-032f-4bfc-8857-a16d853eedb7",
    "_uuid": "63c3932b-133f-4a76-8277-ce509fa141c9",
    "collapsed": false,
    "execution": {
     "iopub.execute_input": "2022-09-12T03:37:26.541362Z",
     "iopub.status.busy": "2022-09-12T03:37:26.540941Z",
     "iopub.status.idle": "2022-09-12T03:37:26.545806Z",
     "shell.execute_reply": "2022-09-12T03:37:26.544849Z"
    },
    "jupyter": {
     "outputs_hidden": false
    },
    "papermill": {
     "duration": 0.015228,
     "end_time": "2022-09-12T03:37:26.547714",
     "exception": false,
     "start_time": "2022-09-12T03:37:26.532486",
     "status": "completed"
    },
    "tags": []
   },
   "outputs": [],
   "source": [
    "X_input_ids = np.zeros((len(df_train_b), MAX_TEXT))\n",
    "X_attn_masks = np.zeros((len(df_train_b), MAX_TEXT))"
   ]
  },
  {
   "cell_type": "code",
   "execution_count": 13,
   "id": "95666369",
   "metadata": {
    "_cell_guid": "82fa9756-bedc-4654-a024-148f31f0892c",
    "_uuid": "073e5244-81f6-40f9-8dd7-58339513b631",
    "collapsed": false,
    "execution": {
     "iopub.execute_input": "2022-09-12T03:37:26.564805Z",
     "iopub.status.busy": "2022-09-12T03:37:26.564328Z",
     "iopub.status.idle": "2022-09-12T03:37:26.569730Z",
     "shell.execute_reply": "2022-09-12T03:37:26.568858Z"
    },
    "jupyter": {
     "outputs_hidden": false
    },
    "papermill": {
     "duration": 0.016563,
     "end_time": "2022-09-12T03:37:26.571995",
     "exception": false,
     "start_time": "2022-09-12T03:37:26.555432",
     "status": "completed"
    },
    "tags": []
   },
   "outputs": [],
   "source": [
    "from tqdm.auto import tqdm\n",
    "\n",
    "def encode_data(df, ids, masks, tokenizer):\n",
    "    for i, text in tqdm(enumerate(df['text'])):\n",
    "        tokenized_text = tokenizer.encode_plus(\n",
    "            text,\n",
    "            max_length=MAX_TEXT, \n",
    "            truncation=True, \n",
    "            padding='max_length', \n",
    "            add_special_tokens=True,\n",
    "            return_tensors='tf'\n",
    "        )\n",
    "#         Assigning the input_ids and attention mask for each text \n",
    "        ids[i, :] = tokenized_text.input_ids\n",
    "        masks[i, :] = tokenized_text.attention_mask\n",
    "    return ids, masks"
   ]
  },
  {
   "cell_type": "code",
   "execution_count": 14,
   "id": "f9ed2e5f",
   "metadata": {
    "_cell_guid": "ab85262e-677a-4bb6-995a-34d537a65b75",
    "_uuid": "61eb759e-9490-4c9f-9165-42fd26f0f6df",
    "collapsed": false,
    "execution": {
     "iopub.execute_input": "2022-09-12T03:37:26.589276Z",
     "iopub.status.busy": "2022-09-12T03:37:26.588418Z",
     "iopub.status.idle": "2022-09-12T03:38:15.770697Z",
     "shell.execute_reply": "2022-09-12T03:38:15.769663Z"
    },
    "jupyter": {
     "outputs_hidden": false
    },
    "papermill": {
     "duration": 49.193441,
     "end_time": "2022-09-12T03:38:15.773032",
     "exception": false,
     "start_time": "2022-09-12T03:37:26.579591",
     "status": "completed"
    },
    "tags": []
   },
   "outputs": [
    {
     "data": {
      "application/vnd.jupyter.widget-view+json": {
       "model_id": "f001a56a598c4e41b20e39db36221ba0",
       "version_major": 2,
       "version_minor": 0
      },
      "text/plain": [
       "0it [00:00, ?it/s]"
      ]
     },
     "metadata": {},
     "output_type": "display_data"
    }
   ],
   "source": [
    "# Creating the input ids and attention masks for the training dataset\n",
    "X_input_ids, X_attn_masks = encode_data(df_train_b, X_input_ids, X_attn_masks, tokenizer)"
   ]
  },
  {
   "cell_type": "code",
   "execution_count": 15,
   "id": "54e03ae9",
   "metadata": {
    "_cell_guid": "d795eaba-4513-46b4-bd28-4729256211db",
    "_uuid": "24c9de13-4afe-4da8-a517-b5e29ac940c9",
    "collapsed": false,
    "execution": {
     "iopub.execute_input": "2022-09-12T03:38:15.790815Z",
     "iopub.status.busy": "2022-09-12T03:38:15.790195Z",
     "iopub.status.idle": "2022-09-12T03:38:15.797829Z",
     "shell.execute_reply": "2022-09-12T03:38:15.796679Z"
    },
    "jupyter": {
     "outputs_hidden": false
    },
    "papermill": {
     "duration": 0.018384,
     "end_time": "2022-09-12T03:38:15.799840",
     "exception": false,
     "start_time": "2022-09-12T03:38:15.781456",
     "status": "completed"
    },
    "tags": []
   },
   "outputs": [
    {
     "name": "stderr",
     "output_type": "stream",
     "text": [
      "/opt/conda/lib/python3.7/site-packages/ipykernel_launcher.py:2: SettingWithCopyWarning: \n",
      "A value is trying to be set on a copy of a slice from a DataFrame.\n",
      "Try using .loc[row_indexer,col_indexer] = value instead\n",
      "\n",
      "See the caveats in the documentation: https://pandas.pydata.org/pandas-docs/stable/user_guide/indexing.html#returning-a-view-versus-a-copy\n",
      "  \n"
     ]
    }
   ],
   "source": [
    "#Converting all the labels to int (which I think they already are but check later)\n",
    "df_train_b['target'] = df_train_b['target'].astype(int)"
   ]
  },
  {
   "cell_type": "code",
   "execution_count": 16,
   "id": "82063820",
   "metadata": {
    "_cell_guid": "07f58fde-4e0e-4cef-8ed7-b6147a85b51e",
    "_uuid": "bd1174b4-eabe-43e0-a566-f88c63114dd1",
    "collapsed": false,
    "execution": {
     "iopub.execute_input": "2022-09-12T03:38:15.817001Z",
     "iopub.status.busy": "2022-09-12T03:38:15.816720Z",
     "iopub.status.idle": "2022-09-12T03:38:15.826260Z",
     "shell.execute_reply": "2022-09-12T03:38:15.825123Z"
    },
    "jupyter": {
     "outputs_hidden": false
    },
    "papermill": {
     "duration": 0.020728,
     "end_time": "2022-09-12T03:38:15.828485",
     "exception": false,
     "start_time": "2022-09-12T03:38:15.807757",
     "status": "completed"
    },
    "tags": []
   },
   "outputs": [
    {
     "data": {
      "text/plain": [
       "array([[0., 1., 0.],\n",
       "       [0., 1., 0.],\n",
       "       [0., 1., 0.],\n",
       "       ...,\n",
       "       [0., 1., 0.],\n",
       "       [1., 0., 0.],\n",
       "       [1., 0., 0.]])"
      ]
     },
     "execution_count": 16,
     "metadata": {},
     "output_type": "execute_result"
    }
   ],
   "source": [
    "# One hot encoding the Labels \n",
    "labels = np.zeros((len(df_train_b), 3))\n",
    "labels[np.arange(len(df_train_b)), df_train_b['target'].values] = 1\n",
    "labels"
   ]
  },
  {
   "cell_type": "code",
   "execution_count": 17,
   "id": "d57c5371",
   "metadata": {
    "_cell_guid": "93c999b1-9c39-4b10-b9c2-49973e4cf2db",
    "_uuid": "5102e818-3d15-42a2-ac3f-869e3fa79898",
    "collapsed": false,
    "execution": {
     "iopub.execute_input": "2022-09-12T03:38:15.845511Z",
     "iopub.status.busy": "2022-09-12T03:38:15.845214Z",
     "iopub.status.idle": "2022-09-12T03:38:16.209476Z",
     "shell.execute_reply": "2022-09-12T03:38:16.208178Z"
    },
    "jupyter": {
     "outputs_hidden": false
    },
    "papermill": {
     "duration": 0.375204,
     "end_time": "2022-09-12T03:38:16.211726",
     "exception": false,
     "start_time": "2022-09-12T03:38:15.836522",
     "status": "completed"
    },
    "tags": []
   },
   "outputs": [
    {
     "name": "stdout",
     "output_type": "stream",
     "text": [
      "<MapDataset shapes: ({input_ids: (256,), attention_mask: (256,)}, (3,)), types: ({input_ids: tf.float64, attention_mask: tf.float64}, tf.float64)>\n",
      "<BatchDataset shapes: ({input_ids: (16, 256), attention_mask: (16, 256)}, (16, 3)), types: ({input_ids: tf.float64, attention_mask: tf.float64}, tf.float64)>\n"
     ]
    }
   ],
   "source": [
    "# Create dataset input for keras model.\n",
    "def DatasetMapFunction(input_ids, attn_masks, labels):\n",
    "    return {\n",
    "        'input_ids': input_ids,  # From tokenizer, not yet converted to features.\n",
    "        'attention_mask': attn_masks,  # From tokenizer, not yet converted to features.\n",
    "#         'discourse_type': discourse_type,  # Manually created feature for discourse_type.\n",
    "    }, labels  # Manually created labels.\n",
    "\n",
    "# Tensorflow specific, need to combine tokenizer output and label to form training dataset.\n",
    "dataset = tf.data.Dataset.from_tensor_slices((X_input_ids, X_attn_masks, labels))\n",
    "dataset = dataset.map(DatasetMapFunction)  # Convert to required format for tensorflow dataset.\n",
    "print(dataset)\n",
    "dataset = dataset.shuffle(10000).batch(16, drop_remainder=True)\n",
    "print(dataset)"
   ]
  },
  {
   "cell_type": "code",
   "execution_count": 18,
   "id": "7d785d50",
   "metadata": {
    "_cell_guid": "54507174-fdd4-4220-a7c2-2528e8010daf",
    "_uuid": "12bb3278-e935-48c1-9639-06ecf4fb8af0",
    "collapsed": false,
    "execution": {
     "iopub.execute_input": "2022-09-12T03:38:16.229698Z",
     "iopub.status.busy": "2022-09-12T03:38:16.229409Z",
     "iopub.status.idle": "2022-09-12T03:38:16.235806Z",
     "shell.execute_reply": "2022-09-12T03:38:16.234721Z"
    },
    "jupyter": {
     "outputs_hidden": false
    },
    "papermill": {
     "duration": 0.017705,
     "end_time": "2022-09-12T03:38:16.237790",
     "exception": false,
     "start_time": "2022-09-12T03:38:16.220085",
     "status": "completed"
    },
    "tags": []
   },
   "outputs": [],
   "source": [
    "#creating the validation dataset for ensuring overfitting to not happen\n",
    "ratio = 0.8\n",
    "train_size = int((len(df_train_b) // 16) * ratio)\n",
    "train_dataset = dataset.take(train_size)\n",
    "val_dataset = dataset.skip(train_size)"
   ]
  },
  {
   "cell_type": "code",
   "execution_count": 19,
   "id": "4098ac07",
   "metadata": {
    "_cell_guid": "2e0af23f-0c86-4a5d-b592-b299f3e6750b",
    "_uuid": "49bd8a88-c062-4128-ac3c-e848ce1f6d03",
    "collapsed": false,
    "execution": {
     "iopub.execute_input": "2022-09-12T03:38:16.256196Z",
     "iopub.status.busy": "2022-09-12T03:38:16.254707Z",
     "iopub.status.idle": "2022-09-12T03:38:17.839842Z",
     "shell.execute_reply": "2022-09-12T03:38:17.838902Z"
    },
    "jupyter": {
     "outputs_hidden": false
    },
    "papermill": {
     "duration": 1.595923,
     "end_time": "2022-09-12T03:38:17.842002",
     "exception": false,
     "start_time": "2022-09-12T03:38:16.246079",
     "status": "completed"
    },
    "tags": []
   },
   "outputs": [
    {
     "name": "stderr",
     "output_type": "stream",
     "text": [
      "You are using a model of type distilbert to instantiate a model of type bert. This is not supported for all configurations of models and can yield errors.\n",
      "Some layers from the model checkpoint at ../input/huggingface-bert-variants/distilbert-base-cased/distilbert-base-cased were not used when initializing TFBertModel: ['vocab_layer_norm', 'vocab_transform', 'distilbert', 'activation_13', 'vocab_projector']\n",
      "- This IS expected if you are initializing TFBertModel from the checkpoint of a model trained on another task or with another architecture (e.g. initializing a BertForSequenceClassification model from a BertForPreTraining model).\n",
      "- This IS NOT expected if you are initializing TFBertModel from the checkpoint of a model that you expect to be exactly identical (initializing a BertForSequenceClassification model from a BertForSequenceClassification model).\n",
      "Some layers of TFBertModel were not initialized from the model checkpoint at ../input/huggingface-bert-variants/distilbert-base-cased/distilbert-base-cased and are newly initialized: ['bert']\n",
      "You should probably TRAIN this model on a down-stream task to be able to use it for predictions and inference.\n"
     ]
    }
   ],
   "source": [
    "# Load model.\n",
    "from transformers import TFBertModel\n",
    "model = TFBertModel.from_pretrained(MODEL_PATH)"
   ]
  },
  {
   "cell_type": "code",
   "execution_count": 20,
   "id": "cda6ebf1",
   "metadata": {
    "_cell_guid": "d8f6398d-d049-4882-aa01-82ac65268893",
    "_uuid": "62c1ad61-8740-40de-9899-2e112f1cdf3f",
    "collapsed": false,
    "execution": {
     "iopub.execute_input": "2022-09-12T03:38:17.861613Z",
     "iopub.status.busy": "2022-09-12T03:38:17.860044Z",
     "iopub.status.idle": "2022-09-12T03:38:24.465710Z",
     "shell.execute_reply": "2022-09-12T03:38:24.464662Z"
    },
    "jupyter": {
     "outputs_hidden": false
    },
    "papermill": {
     "duration": 6.617606,
     "end_time": "2022-09-12T03:38:24.468482",
     "exception": false,
     "start_time": "2022-09-12T03:38:17.850876",
     "status": "completed"
    },
    "tags": []
   },
   "outputs": [],
   "source": [
    "# Defines Bert layer. Input layer names must be the same as defined in dataset.\n",
    "input_ids = tf.keras.layers.Input(shape=(MAX_TEXT,), name='input_ids', dtype='int32')  # Input layer.\n",
    "attn_masks = tf.keras.layers.Input(shape=(MAX_TEXT,), name='attention_mask', dtype='int32')  # Input layer.\n",
    "bert_embds = model.bert(input_ids, attention_mask=attn_masks)[1]\n",
    "intermediate_layer = tf.keras.layers.Dense(512, activation='relu', name='intermediate_layer')(bert_embds)\n",
    "\n",
    "output_layer = tf.keras.layers.Dense(3, activation='softmax', name='output_layer')(intermediate_layer)"
   ]
  },
  {
   "cell_type": "code",
   "execution_count": 21,
   "id": "7d5a72e0",
   "metadata": {
    "_cell_guid": "ee3e704d-2f74-4c54-988e-961eea920f1a",
    "_uuid": "24348958-9085-48c0-920d-68951a1012d6",
    "collapsed": false,
    "execution": {
     "iopub.execute_input": "2022-09-12T03:38:24.486753Z",
     "iopub.status.busy": "2022-09-12T03:38:24.486250Z",
     "iopub.status.idle": "2022-09-12T03:38:24.507315Z",
     "shell.execute_reply": "2022-09-12T03:38:24.506185Z"
    },
    "jupyter": {
     "outputs_hidden": false
    },
    "papermill": {
     "duration": 0.032237,
     "end_time": "2022-09-12T03:38:24.509282",
     "exception": false,
     "start_time": "2022-09-12T03:38:24.477045",
     "status": "completed"
    },
    "tags": []
   },
   "outputs": [
    {
     "name": "stdout",
     "output_type": "stream",
     "text": [
      "Model: \"model\"\n",
      "__________________________________________________________________________________________________\n",
      "Layer (type)                    Output Shape         Param #     Connected to                     \n",
      "==================================================================================================\n",
      "input_ids (InputLayer)          [(None, 256)]        0                                            \n",
      "__________________________________________________________________________________________________\n",
      "attention_mask (InputLayer)     [(None, 256)]        0                                            \n",
      "__________________________________________________________________________________________________\n",
      "bert (TFBertMainLayer)          TFBaseModelOutputWit 108310272   input_ids[0][0]                  \n",
      "                                                                 attention_mask[0][0]             \n",
      "__________________________________________________________________________________________________\n",
      "intermediate_layer (Dense)      (None, 512)          393728      bert[0][1]                       \n",
      "__________________________________________________________________________________________________\n",
      "output_layer (Dense)            (None, 3)            1539        intermediate_layer[0][0]         \n",
      "==================================================================================================\n",
      "Total params: 108,705,539\n",
      "Trainable params: 108,705,539\n",
      "Non-trainable params: 0\n",
      "__________________________________________________________________________________________________\n"
     ]
    }
   ],
   "source": [
    "feedback_model = tf.keras.Model(inputs=[input_ids, attn_masks], outputs=output_layer)\n",
    "feedback_model.summary()"
   ]
  },
  {
   "cell_type": "code",
   "execution_count": 22,
   "id": "fc1e74f4",
   "metadata": {
    "_cell_guid": "13a034da-cd8e-4bf6-94c8-a75bfa850b94",
    "_uuid": "0650b9fd-b1a6-4ea9-baa1-86e55ea78a86",
    "collapsed": false,
    "execution": {
     "iopub.execute_input": "2022-09-12T03:38:24.527268Z",
     "iopub.status.busy": "2022-09-12T03:38:24.526982Z",
     "iopub.status.idle": "2022-09-12T03:38:24.541422Z",
     "shell.execute_reply": "2022-09-12T03:38:24.540569Z"
    },
    "jupyter": {
     "outputs_hidden": false
    },
    "papermill": {
     "duration": 0.025926,
     "end_time": "2022-09-12T03:38:24.543461",
     "exception": false,
     "start_time": "2022-09-12T03:38:24.517535",
     "status": "completed"
    },
    "tags": []
   },
   "outputs": [],
   "source": [
    "feedback_model.compile(optimizer=Adam(learning_rate = 1e-5, decay = 1e-6), loss = 'categorical_crossentropy', metrics = ['accuracy'])"
   ]
  },
  {
   "cell_type": "code",
   "execution_count": 23,
   "id": "c2dc0949",
   "metadata": {
    "_cell_guid": "cb0cc5a5-cd08-446f-a63a-c78c611b7e64",
    "_uuid": "a221f011-120e-465e-8d7a-70655614d120",
    "collapsed": false,
    "execution": {
     "iopub.execute_input": "2022-09-12T03:38:24.560874Z",
     "iopub.status.busy": "2022-09-12T03:38:24.560608Z",
     "iopub.status.idle": "2022-09-12T03:39:53.127829Z",
     "shell.execute_reply": "2022-09-12T03:39:53.126675Z"
    },
    "jupyter": {
     "outputs_hidden": false
    },
    "papermill": {
     "duration": 88.586001,
     "end_time": "2022-09-12T03:39:53.137635",
     "exception": false,
     "start_time": "2022-09-12T03:38:24.551634",
     "status": "completed"
    },
    "tags": []
   },
   "outputs": [
    {
     "name": "stderr",
     "output_type": "stream",
     "text": [
      "2022-09-12 03:38:31.669683: I tensorflow/compiler/mlir/mlir_graph_optimization_pass.cc:185] None of the MLIR Optimization Passes are enabled (registered 2)\n"
     ]
    },
    {
     "name": "stdout",
     "output_type": "stream",
     "text": [
      "10/10 [==============================] - 88s 9s/step - loss: 1.0892 - accuracy: 0.5312 - val_loss: 1.0542 - val_accuracy: 0.5428\n"
     ]
    }
   ],
   "source": [
    "history = feedback_model.fit(\n",
    "    train_dataset,\n",
    "    steps_per_epoch = 10,\n",
    "    validation_data = val_dataset,\n",
    "    epochs = 1\n",
    ")"
   ]
  },
  {
   "cell_type": "code",
   "execution_count": 24,
   "id": "8a5984bd",
   "metadata": {
    "_cell_guid": "15bbfc5d-a9f6-4dc5-8b50-cf5f3047ad24",
    "_uuid": "822e5673-cb9f-43fe-bea6-1393e7a28f95",
    "collapsed": false,
    "execution": {
     "iopub.execute_input": "2022-09-12T03:39:53.157119Z",
     "iopub.status.busy": "2022-09-12T03:39:53.156816Z",
     "iopub.status.idle": "2022-09-12T03:39:53.645798Z",
     "shell.execute_reply": "2022-09-12T03:39:53.644915Z"
    },
    "jupyter": {
     "outputs_hidden": false
    },
    "papermill": {
     "duration": 0.501922,
     "end_time": "2022-09-12T03:39:53.648441",
     "exception": false,
     "start_time": "2022-09-12T03:39:53.146519",
     "status": "completed"
    },
    "tags": []
   },
   "outputs": [
    {
     "data": {
      "image/png": "[encoded data removed]",
      "text/plain": [
       "<Figure size 432x288 with 1 Axes>"
      ]
     },
     "metadata": {
      "needs_background": "light"
     },
     "output_type": "display_data"
    },
    {
     "data": {
      "image/png": "[encoded data removed]",
      "text/plain": [
       "<Figure size 432x288 with 1 Axes>"
      ]
     },
     "metadata": {
      "needs_background": "light"
     },
     "output_type": "display_data"
    }
   ],
   "source": [
    "import matplotlib.pyplot as plt\n",
    "\n",
    "plt.plot(history.history['accuracy'])\n",
    "plt.plot(history.history['val_accuracy'])\n",
    "plt.title('model accuracy')\n",
    "plt.ylabel('accuracy')\n",
    "plt.xlabel('epoch')\n",
    "plt.legend(['train', 'test'], loc='upper left')\n",
    "plt.show()\n",
    "# summarize history for loss\n",
    "plt.plot(history.history['loss'])\n",
    "plt.plot(history.history['val_loss'])\n",
    "plt.title('model loss')\n",
    "plt.ylabel('loss')\n",
    "plt.xlabel('epoch')\n",
    "plt.legend(['train', 'test'], loc='upper left')\n",
    "plt.show()"
   ]
  },
  {
   "cell_type": "code",
   "execution_count": 25,
   "id": "90515d00",
   "metadata": {
    "_cell_guid": "edaa68c0-e410-4820-8792-37538b9ce5ef",
    "_uuid": "9eefd1b9-6df6-4d7d-a354-8d75df0d060b",
    "collapsed": false,
    "execution": {
     "iopub.execute_input": "2022-09-12T03:39:53.679158Z",
     "iopub.status.busy": "2022-09-12T03:39:53.678682Z",
     "iopub.status.idle": "2022-09-12T03:39:56.473128Z",
     "shell.execute_reply": "2022-09-12T03:39:56.472118Z"
    },
    "jupyter": {
     "outputs_hidden": false
    },
    "papermill": {
     "duration": 2.812437,
     "end_time": "2022-09-12T03:39:56.475844",
     "exception": false,
     "start_time": "2022-09-12T03:39:53.663407",
     "status": "completed"
    },
    "tags": []
   },
   "outputs": [],
   "source": [
    "# Predict.\n",
    "\n",
    "# Create features for Bert.\n",
    "X_test_input_ids = np.zeros((len(df_test_b), MAX_TEXT))\n",
    "X_test_attn_masks = np.zeros((len(df_test_b), MAX_TEXT))\n",
    "for i, text in enumerate(df_test_b['text']):\n",
    "        tokenized_text = tokenizer.encode_plus(\n",
    "            text,\n",
    "            max_length=MAX_TEXT, \n",
    "            truncation=True, \n",
    "            padding='max_length', \n",
    "            add_special_tokens=True,\n",
    "            return_tensors='tf'\n",
    "        )\n",
    "        X_test_input_ids[i, :] = tokenized_text.input_ids\n",
    "        X_test_attn_masks[i, :] = tokenized_text.attention_mask\n",
    "\n",
    "# Create features for discourse_type.\n",
    "# feature_discourse_type = np.zeros((len(df_test_b), unique_discourse_types))\n",
    "# feature_discourse_type[np.arange(len(df_test_b)), df_test_b['discourse_type'].values] = 1\n",
    "\n",
    "# Predict.\n",
    "pred_labels = feedback_model.predict([X_test_input_ids, X_test_attn_masks])"
   ]
  },
  {
   "cell_type": "code",
   "execution_count": 26,
   "id": "8057203b",
   "metadata": {
    "_cell_guid": "5fb91caf-4bf7-4336-8cad-b9542844bea9",
    "_uuid": "50edbd73-795e-4895-9317-88e1be1fbcad",
    "collapsed": false,
    "execution": {
     "iopub.execute_input": "2022-09-12T03:39:56.504618Z",
     "iopub.status.busy": "2022-09-12T03:39:56.503825Z",
     "iopub.status.idle": "2022-09-12T03:39:56.513323Z",
     "shell.execute_reply": "2022-09-12T03:39:56.512205Z"
    },
    "jupyter": {
     "outputs_hidden": false
    },
    "papermill": {
     "duration": 0.029414,
     "end_time": "2022-09-12T03:39:56.516128",
     "exception": false,
     "start_time": "2022-09-12T03:39:56.486714",
     "status": "completed"
    },
    "tags": []
   },
   "outputs": [
    {
     "data": {
      "text/plain": [
       "array([[0.29944614, 0.50921434, 0.19133955],\n",
       "       [0.32289746, 0.5142199 , 0.16288267],\n",
       "       [0.32046032, 0.5261337 , 0.15340595],\n",
       "       [0.30545008, 0.5257893 , 0.16876066],\n",
       "       [0.3107304 , 0.52387375, 0.16539584],\n",
       "       [0.31455162, 0.48939323, 0.19605514],\n",
       "       [0.3136566 , 0.4907916 , 0.19555181],\n",
       "       [0.30373538, 0.5196378 , 0.17662674],\n",
       "       [0.3135438 , 0.4924441 , 0.19401208],\n",
       "       [0.30621552, 0.50222504, 0.19155937]], dtype=float32)"
      ]
     },
     "execution_count": 26,
     "metadata": {},
     "output_type": "execute_result"
    }
   ],
   "source": [
    "pred_labels"
   ]
  },
  {
   "cell_type": "code",
   "execution_count": 27,
   "id": "a6ec604f",
   "metadata": {
    "_cell_guid": "c2e9ad5f-21ef-4f50-bc91-6fd73734a02c",
    "_uuid": "a454900a-76ee-4410-8f7c-2d319069e203",
    "collapsed": false,
    "execution": {
     "iopub.execute_input": "2022-09-12T03:39:56.539889Z",
     "iopub.status.busy": "2022-09-12T03:39:56.539577Z",
     "iopub.status.idle": "2022-09-12T03:39:56.555406Z",
     "shell.execute_reply": "2022-09-12T03:39:56.554441Z"
    },
    "jupyter": {
     "outputs_hidden": false
    },
    "papermill": {
     "duration": 0.030579,
     "end_time": "2022-09-12T03:39:56.558162",
     "exception": false,
     "start_time": "2022-09-12T03:39:56.527583",
     "status": "completed"
    },
    "tags": []
   },
   "outputs": [],
   "source": [
    "sample_submission = pd.read_csv('/kaggle/input/feedback-prize-effectiveness/sample_submission.csv')\n",
    "sample_submission['discourse_id'] = df_test_b['discourse_id']\n",
    "sample_submission['Ineffective'] = pred_labels[:,0]\n",
    "sample_submission['Adequate'] = pred_labels[:,1]\n",
    "sample_submission['Effective'] = pred_labels[:,2]\n",
    "sample_submission.to_csv(\"submission.csv\", index=False)"
   ]
  }
 ],
 "metadata": {
  "kernelspec": {
   "display_name": "Python 3",
   "language": "python",
   "name": "python3"
  },
  "language_info": {
   "codemirror_mode": {
    "name": "ipython",
    "version": 3
   },
   "file_extension": ".py",
   "mimetype": "text/x-python",
   "name": "python",
   "nbconvert_exporter": "python",
   "pygments_lexer": "ipython3",
   "version": "3.7.12"
  },
  "papermill": {
   "default_parameters": {},
   "duration": 203.394838,
   "end_time": "2022-09-12T03:40:00.362673",
   "environment_variables": {},
   "exception": null,
   "input_path": "__notebook__.ipynb",
   "output_path": "__notebook__.ipynb",
   "parameters": {},
   "start_time": "2022-09-12T03:36:36.967835",
   "version": "2.3.4"
  },
  "widgets": {
   "application/vnd.jupyter.widget-state+json": {
    "state": {
     "1f6e017217984ab58cc479ecd33e5f64": {
      "model_module": "@jupyter-widgets/base",
      "model_module_version": "1.2.0",
      "model_name": "LayoutModel",
      "state": {
       "_model_module": "@jupyter-widgets/base",
       "_model_module_version": "1.2.0",
       "_model_name": "LayoutModel",
       "_view_count": null,
       "_view_module": "@jupyter-widgets/base",
       "_view_module_version": "1.2.0",
       "_view_name": "LayoutView",
       "align_content": null,
       "align_items": null,
       "align_self": null,
       "border": null,
       "bottom": null,
       "display": null,
       "flex": null,
       "flex_flow": null,
       "grid_area": null,
       "grid_auto_columns": null,
       "grid_auto_flow": null,
       "grid_auto_rows": null,
       "grid_column": null,
       "grid_gap": null,
       "grid_row": null,
       "grid_template_areas": null,
       "grid_template_columns": null,
       "grid_template_rows": null,
       "height": null,
       "justify_content": null,
       "justify_items": null,
       "left": null,
       "margin": null,
       "max_height": null,
       "max_width": null,
       "min_height": null,
       "min_width": null,
       "object_fit": null,
       "object_position": null,
       "order": null,
       "overflow": null,
       "overflow_x": null,
       "overflow_y": null,
       "padding": null,
       "right": null,
       "top": null,
       "visibility": null,
       "width": null
      }
     },
     "275820d4cf7545a6beac38001e6d5f03": {
      "model_module": "@jupyter-widgets/controls",
      "model_module_version": "1.5.0",
      "model_name": "HTMLModel",
      "state": {
       "_dom_classes": [],
       "_model_module": "@jupyter-widgets/controls",
       "_model_module_version": "1.5.0",
       "_model_name": "HTMLModel",
       "_view_count": null,
       "_view_module": "@jupyter-widgets/controls",
       "_view_module_version": "1.5.0",
       "_view_name": "HTMLView",
       "description": "",
       "description_tooltip": null,
       "layout": "IPY_MODEL_783c1d9f32aa40bbb2c1b56a5b80f4a9",
       "placeholder": "​",
       "style": "IPY_MODEL_dc0cb91ec3134bed93eb876907e33d5b",
       "value": " 36765/? [00:49&lt;00:00, 675.04it/s]"
      }
     },
     "3aa60387e85a4d49bc008f5261e04b78": {
      "model_module": "@jupyter-widgets/base",
      "model_module_version": "1.2.0",
      "model_name": "LayoutModel",
      "state": {
       "_model_module": "@jupyter-widgets/base",
       "_model_module_version": "1.2.0",
       "_model_name": "LayoutModel",
       "_view_count": null,
       "_view_module": "@jupyter-widgets/base",
       "_view_module_version": "1.2.0",
       "_view_name": "LayoutView",
       "align_content": null,
       "align_items": null,
       "align_self": null,
       "border": null,
       "bottom": null,
       "display": null,
       "flex": null,
       "flex_flow": null,
       "grid_area": null,
       "grid_auto_columns": null,
       "grid_auto_flow": null,
       "grid_auto_rows": null,
       "grid_column": null,
       "grid_gap": null,
       "grid_row": null,
       "grid_template_areas": null,
       "grid_template_columns": null,
       "grid_template_rows": null,
       "height": null,
       "justify_content": null,
       "justify_items": null,
       "left": null,
       "margin": null,
       "max_height": null,
       "max_width": null,
       "min_height": null,
       "min_width": null,
       "object_fit": null,
       "object_position": null,
       "order": null,
       "overflow": null,
       "overflow_x": null,
       "overflow_y": null,
       "padding": null,
       "right": null,
       "top": null,
       "visibility": null,
       "width": "20px"
      }
     },
     "682f58c7a37646edb3e27174c53461bd": {
      "model_module": "@jupyter-widgets/controls",
      "model_module_version": "1.5.0",
      "model_name": "FloatProgressModel",
      "state": {
       "_dom_classes": [],
       "_model_module": "@jupyter-widgets/controls",
       "_model_module_version": "1.5.0",
       "_model_name": "FloatProgressModel",
       "_view_count": null,
       "_view_module": "@jupyter-widgets/controls",
       "_view_module_version": "1.5.0",
       "_view_name": "ProgressView",
       "bar_style": "success",
       "description": "",
       "description_tooltip": null,
       "layout": "IPY_MODEL_3aa60387e85a4d49bc008f5261e04b78",
       "max": 1.0,
       "min": 0.0,
       "orientation": "horizontal",
       "style": "IPY_MODEL_8f2292a4a37c48b4a4b2699b19d8a763",
       "value": 1.0
      }
     },
     "783c1d9f32aa40bbb2c1b56a5b80f4a9": {
      "model_module": "@jupyter-widgets/base",
      "model_module_version": "1.2.0",
      "model_name": "LayoutModel",
      "state": {
       "_model_module": "@jupyter-widgets/base",
       "_model_module_version": "1.2.0",
       "_model_name": "LayoutModel",
       "_view_count": null,
       "_view_module": "@jupyter-widgets/base",
       "_view_module_version": "1.2.0",
       "_view_name": "LayoutView",
       "align_content": null,
       "align_items": null,
       "align_self": null,
       "border": null,
       "bottom": null,
       "display": null,
       "flex": null,
       "flex_flow": null,
       "grid_area": null,
       "grid_auto_columns": null,
       "grid_auto_flow": null,
       "grid_auto_rows": null,
       "grid_column": null,
       "grid_gap": null,
       "grid_row": null,
       "grid_template_areas": null,
       "grid_template_columns": null,
       "grid_template_rows": null,
       "height": null,
       "justify_content": null,
       "justify_items": null,
       "left": null,
       "margin": null,
       "max_height": null,
       "max_width": null,
       "min_height": null,
       "min_width": null,
       "object_fit": null,
       "object_position": null,
       "order": null,
       "overflow": null,
       "overflow_x": null,
       "overflow_y": null,
       "padding": null,
       "right": null,
       "top": null,
       "visibility": null,
       "width": null
      }
     },
     "7d318dfd748f440abc3a26f01d7fd1d0": {
      "model_module": "@jupyter-widgets/controls",
      "model_module_version": "1.5.0",
      "model_name": "DescriptionStyleModel",
      "state": {
       "_model_module": "@jupyter-widgets/controls",
       "_model_module_version": "1.5.0",
       "_model_name": "DescriptionStyleModel",
       "_view_count": null,
       "_view_module": "@jupyter-widgets/base",
       "_view_module_version": "1.2.0",
       "_view_name": "StyleView",
       "description_width": ""
      }
     },
     "888fe587a3124aedbb5f8067510673ff": {
      "model_module": "@jupyter-widgets/controls",
      "model_module_version": "1.5.0",
      "model_name": "HTMLModel",
      "state": {
       "_dom_classes": [],
       "_model_module": "@jupyter-widgets/controls",
       "_model_module_version": "1.5.0",
       "_model_name": "HTMLModel",
       "_view_count": null,
       "_view_module": "@jupyter-widgets/controls",
       "_view_module_version": "1.5.0",
       "_view_name": "HTMLView",
       "description": "",
       "description_tooltip": null,
       "layout": "IPY_MODEL_1f6e017217984ab58cc479ecd33e5f64",
       "placeholder": "​",
       "style": "IPY_MODEL_7d318dfd748f440abc3a26f01d7fd1d0",
       "value": ""
      }
     },
     "8f2292a4a37c48b4a4b2699b19d8a763": {
      "model_module": "@jupyter-widgets/controls",
      "model_module_version": "1.5.0",
      "model_name": "ProgressStyleModel",
      "state": {
       "_model_module": "@jupyter-widgets/controls",
       "_model_module_version": "1.5.0",
       "_model_name": "ProgressStyleModel",
       "_view_count": null,
       "_view_module": "@jupyter-widgets/base",
       "_view_module_version": "1.2.0",
       "_view_name": "StyleView",
       "bar_color": null,
       "description_width": ""
      }
     },
     "dc0cb91ec3134bed93eb876907e33d5b": {
      "model_module": "@jupyter-widgets/controls",
      "model_module_version": "1.5.0",
      "model_name": "DescriptionStyleModel",
      "state": {
       "_model_module": "@jupyter-widgets/controls",
       "_model_module_version": "1.5.0",
       "_model_name": "DescriptionStyleModel",
       "_view_count": null,
       "_view_module": "@jupyter-widgets/base",
       "_view_module_version": "1.2.0",
       "_view_name": "StyleView",
       "description_width": ""
      }
     },
     "dd32a7f7865a4221bbb0a8da805e2ecf": {
      "model_module": "@jupyter-widgets/base",
      "model_module_version": "1.2.0",
      "model_name": "LayoutModel",
      "state": {
       "_model_module": "@jupyter-widgets/base",
       "_model_module_version": "1.2.0",
       "_model_name": "LayoutModel",
       "_view_count": null,
       "_view_module": "@jupyter-widgets/base",
       "_view_module_version": "1.2.0",
       "_view_name": "LayoutView",
       "align_content": null,
       "align_items": null,
       "align_self": null,
       "border": null,
       "bottom": null,
       "display": null,
       "flex": null,
       "flex_flow": null,
       "grid_area": null,
       "grid_auto_columns": null,
       "grid_auto_flow": null,
       "grid_auto_rows": null,
       "grid_column": null,
       "grid_gap": null,
       "grid_row": null,
       "grid_template_areas": null,
       "grid_template_columns": null,
       "grid_template_rows": null,
       "height": null,
       "justify_content": null,
       "justify_items": null,
       "left": null,
       "margin": null,
       "max_height": null,
       "max_width": null,
       "min_height": null,
       "min_width": null,
       "object_fit": null,
       "object_position": null,
       "order": null,
       "overflow": null,
       "overflow_x": null,
       "overflow_y": null,
       "padding": null,
       "right": null,
       "top": null,
       "visibility": null,
       "width": null
      }
     },
     "f001a56a598c4e41b20e39db36221ba0": {
      "model_module": "@jupyter-widgets/controls",
      "model_module_version": "1.5.0",
      "model_name": "HBoxModel",
      "state": {
       "_dom_classes": [],
       "_model_module": "@jupyter-widgets/controls",
       "_model_module_version": "1.5.0",
       "_model_name": "HBoxModel",
       "_view_count": null,
       "_view_module": "@jupyter-widgets/controls",
       "_view_module_version": "1.5.0",
       "_view_name": "HBoxView",
       "box_style": "",
       "children": [
        "IPY_MODEL_888fe587a3124aedbb5f8067510673ff",
        "IPY_MODEL_682f58c7a37646edb3e27174c53461bd",
        "IPY_MODEL_275820d4cf7545a6beac38001e6d5f03"
       ],
       "layout": "IPY_MODEL_dd32a7f7865a4221bbb0a8da805e2ecf"
      }
     }
    },
    "version_major": 2,
    "version_minor": 0
   }
  }
 },
 "nbformat": 4,
 "nbformat_minor": 5
}
